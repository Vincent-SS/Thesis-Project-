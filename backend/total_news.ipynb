{
 "cells": [
  {
   "cell_type": "code",
   "execution_count": null,
   "source": [
    "import pandas as pd\n",
    "import numpy as np\n",
    "import json"
   ],
   "outputs": [],
   "metadata": {}
  },
  {
   "cell_type": "code",
   "execution_count": null,
   "source": [
    "# Return one season's financial news dataframe\n",
    "def season_dataframe(ticker, season):\n",
    "    with open('./financial_news/'+ticker+str(season), 'r') as ticker_news:\n",
    "        content  = ticker_news.read()\n",
    "    records = json.loads(content)\n",
    "    df = pd.DataFrame(records)\n",
    "    return df"
   ],
   "outputs": [],
   "metadata": {}
  },
  {
   "cell_type": "code",
   "execution_count": null,
   "source": [
    "# Create dataframe for each ticker, storing its news\n",
    "#ALL_TICKERS = [\"$TSLA\", \"$NVDA\", \"$INTC\", \"$PFE\", \"$SPGI\", \"$LRCX\", \"$TMUS\", \"$ADSK\", \"$VRTX\", \"$TWTR\", \"$EBAY\", \"$CARR\", \"$GRMN\", \"$ANET\", \"$AAL\"]\n",
    "ALL_TICKERS = [\"$TSLA\", \"$INTC\", \"$PFE\", \"$SPGI\", \"$ADSK\", \"$VRTX\", \"$TWTR\", \"$EBAY\" \"$GRMN\", \"$ANET\", \"$AAL\"]\n",
    "df = []\n",
    "for ticker in ALL_TICKERS:\n",
    "    # Concatenate 8 seasons into one dataframe\n",
    "    df_temp = pd.DataFrame()\n",
    "    for i in range(1, 9):\n",
    "            new_df = season_dataframe(ticker, i)\n",
    "            df_temp = pd.concat([df_temp, new_df], ignore_index=True)\n",
    "    df.append(df_temp)"
   ],
   "outputs": [],
   "metadata": {}
  },
  {
   "cell_type": "code",
   "execution_count": null,
   "source": [
    "a = 0\n",
    "for each_df in df:\n",
    "    print(len(each_df))"
   ],
   "outputs": [],
   "metadata": {}
  },
  {
   "cell_type": "code",
   "execution_count": null,
   "source": [
    "df[0]"
   ],
   "outputs": [],
   "metadata": {}
  },
  {
   "cell_type": "code",
   "execution_count": null,
   "source": [
    "a"
   ],
   "outputs": [],
   "metadata": {}
  },
  {
   "cell_type": "code",
   "execution_count": null,
   "source": [
    "df[0].head(50)"
   ],
   "outputs": [],
   "metadata": {}
  },
  {
   "cell_type": "markdown",
   "source": [
    "# Get unique site (publishers)"
   ],
   "metadata": {}
  },
  {
   "cell_type": "code",
   "execution_count": 7,
   "source": [
    "type(df[0].site.unique())"
   ],
   "outputs": [
    {
     "output_type": "execute_result",
     "data": {
      "text/plain": [
       "numpy.ndarray"
      ]
     },
     "metadata": {},
     "execution_count": 7
    }
   ],
   "metadata": {}
  },
  {
   "cell_type": "code",
   "execution_count": 16,
   "source": [
    "res = []\n",
    "for each_df in df:\n",
    "    site = each_df.site.unique().flatten()\n",
    "    for each_site in site:\n",
    "        if each_site not in res:\n",
    "            res.append(each_site)\n"
   ],
   "outputs": [],
   "metadata": {}
  },
  {
   "cell_type": "code",
   "execution_count": 17,
   "source": [
    "import re"
   ],
   "outputs": [],
   "metadata": {}
  },
  {
   "cell_type": "code",
   "execution_count": 22,
   "source": [
    "print(res)\n",
    "i = 0\n",
    "for r in res:\n",
    "    r = re.sub(r'^https:\\/\\/www.', '', r)\n",
    "    r = re.sub(r'^http:\\/\\/www.', '', r)\n",
    "    r = re.sub(r'^https:\\/\\/', '', r)\n",
    "    r = re.sub(r'.com$', '', r)\n",
    "    res[i] = r\n",
    "    i+=1"
   ],
   "outputs": [
    {
     "output_type": "stream",
     "name": "stdout",
     "text": [
      "['Reuters', 'Seeking Alpha', 'Benzinga', 'CNBC', 'The Motley Fool', 'InvestorPlace', 'ETF Trends', 'Business Insider', 'CNBC Television', 'Forbes', 'Investors Business Daily', 'Market Watch', 'Zacks Investment Research', 'NYTimes', 'The Street', 'Invezz', '24/7 Wall Street', 'Barrons', 'Pulse2', 'Yahoo Finance', 'CNN Business', 'New York Post', 'TechCrunch', 'CNET', 'Bloomberg Technology', 'Investopedia', 'Skynews', 'The Guardian', 'CNBC International TV', 'GuruFocus', 'Fox Business', 'FreightWaves', 'Bloomberg Markets and Finance', 'Schaeffers Research', 'Wall Street Journal', 'ET', 'Kiplinger', 'Cheddar', 'OTC PR Wire', 'Insider Monkey', 'The Dog of Wall Street', 'Morningstar', 'Fast Company', 'See It Market', 'GlobeNewsWire', 'GeekWire', 'Iris', 'The Verge', 'Engadget', 'Digital Trends', 'CNN', 'VentureBeat', 'PYMNTS', 'investing', 'barrons', 'fool', 'thelincolnianonline', 'analyticsindiamag', 'businesswire', 'businesstimes.com.sg', 'insidebigdata', 'windowscentral', 'seekingalpha', 'indianexpress', 'ibtimes', 'theedgemarkets', 'techcentral.co.za', 'bnnbloomberg.ca', 'forbes', 'wsj', 'investorplace', 'techradar', 'marketwatch', 'cnbc', 'marketscreener', 'venturebeat', 'counterpointresearch', 'theguardian', 'invezz', 'slashgear', 'benzinga', 'businessinsider.in', 'masterinvestor.co.uk', 'news.alphastreet', 'androidcentral', 'coinspeaker', 'realmoney.thestreet', 'screenrant', 'computerworld.com.br', 'lemondeinformatique.fr', 'digitaltrends', 'siliconrepublic', 'smarteranalyst', 'livemint', 'apnews', 'theverge', '9to5toys', 'datacenterknowledge', 'eveningexpress.co.uk', 'ctvnews.ca', 'abcnews', 'ctpost', 'Business Wire', 'PRNewsWire', 'rte.ie', 'en.trend.az', 'devdiscourse', 'news.crunchbase', 'marketwatch', 'in.reuters', 'uk.reuters', 'uk.mobile.reuters', 'mobile.reuters', 'blogs.intel', 'techtimes', 'elperiodico', 'elcorreo', 'arabnews', 'markets.businessinsider', 'ain.ua', 'extremetech', 'businessinsider.es', 'lemonde.fr', 'newstimes', 'thestar.com.my', 'cincodias.elpais', 'indiatoday.in', 'blocksandfiles', 'markets.co', 'Newsfile Corp', 'Deadline', 'seekingalpha', 'Yahoo', 'theglobeandmail', 'zonebourse', 'boursorama', 'insights.tradestation', 'tradingsat', 'seekingalpha', 'irishtimes', 'Benzinga\\u2003Newsdesk', 'thenextweb', 'cnbc', 'betakit', 'benzinga', 'business.financialpost', 'ots.at', 'http://www.globenewswire', 'einpresswire', 'globenewswire', 'businessinsider.com.au', 'lerevenu', 'nanalyze', 'lefigaro.fr', 'nypost', 'footwearnews', 'finanzen.net', 'elpais', 'independent.co.uk', 'bmmagazine.co.uk', 'simplywall.st', 'breitbart', 'ccn', 'crowdfundinsider', 'dailymail.co.uk', 'adweek', 'finovate', 'thesun.co.uk', 'pymnts', 'cnn', 'americanbanker', 'FOOL', 'YAHOO', 'SEEKINGALPHA', 'ZACKS', 'SMARTERANALYST', 'THELINCOLNIANONLINE', 'BARRONS', 'THEFLY', 'TALKMARKETS', 'SUREDIVIDEND', 'INVESTORPLACE', '247WALLST', 'GURUFOCUS', 'Benzinga Newsdesk', 'Benzinga_Newsdesk', 'GEARPATROL', 'POLITICO', 'THENEXTWEB', 'ANALYSTRATINGS', 'Vick Meyer', 'REUTERS', '9TO5TOYS', 'vishwanath@benzinga', 'ANDROIDCENTRAL', 'BENZINGA', 'Zacks', 'INDEPENDENT.CO.UK', 'SIMPLYWALL', 'TECHRADAR', 'ENGADGET', 'THEVERGE', 'http://business.itbusinessnet', 'http://www.business.itbusinessnet', 'cryptobriefing', 'uk.investing', 'moneyweb.co.za', 'coingeek', 'digiday', 'zycrypto', 'blockboard.net', 'newsbtc', 'blog.dellemc', 'btcmanager', 'insidebitcoins', 'coindesk', 'cryptoslate', 'blockonomi', 'dailyhodl', 'wealthmanagement', 'livebitcoinnews', 'forexcrunch', 'nulltx', 'news.bitcoin', 'ourbitcoinnews', 'coingape', 'blogs.vmware', 'computerworld.co', 'smartereum', 'thestar', 'themerkle', 'medium', 'cryptopotato', 'channelweb.co.uk', 'sfchronicle', 'thehill', 'cultofmac', '9to5mac', 'washingtonexaminer', 'rustourismnews', 'news.com.au', 'Huffington Post']\n"
     ]
    }
   ],
   "metadata": {}
  },
  {
   "cell_type": "code",
   "execution_count": 23,
   "source": [
    "print(res)"
   ],
   "outputs": [
    {
     "output_type": "stream",
     "name": "stdout",
     "text": [
      "['Reuters', 'Seeking Alpha', 'Benzinga', 'CNBC', 'The Motley Fool', 'InvestorPlace', 'ETF Trends', 'Business Insider', 'CNBC Television', 'Forbes', 'Investors Business Daily', 'Market Watch', 'Zacks Investment Research', 'NYTimes', 'The Street', 'Invezz', '24/7 Wall Street', 'Barrons', 'Pulse2', 'Yahoo Finance', 'CNN Business', 'New York Post', 'TechCrunch', 'CNET', 'Bloomberg Technology', 'Investopedia', 'Skynews', 'The Guardian', 'CNBC International TV', 'GuruFocus', 'Fox Business', 'FreightWaves', 'Bloomberg Markets and Finance', 'Schaeffers Research', 'Wall Street Journal', 'ET', 'Kiplinger', 'Cheddar', 'OTC PR Wire', 'Insider Monkey', 'The Dog of Wall Street', 'Morningstar', 'Fast Company', 'See It Market', 'GlobeNewsWire', 'GeekWire', 'Iris', 'The Verge', 'Engadget', 'Digital Trends', 'CNN', 'VentureBeat', 'PYMNTS', 'investing', 'barrons', 'fool', 'thelincolnianonline', 'analyticsindiamag', 'businesswire', 'businesstimes.com.sg', 'insidebigdata', 'windowscentral', 'seekingalpha', 'indianexpress', 'ibtimes', 'theedgemarkets', 'techcentral.co.za', 'bnnbloomberg.ca', 'forbes', 'wsj', 'investorplace', 'techradar', 'marketwatch', 'cnbc', 'marketscreener', 'venturebeat', 'counterpointresearch', 'theguardian', 'invezz', 'slashgear', 'benzinga', 'businessinsider.in', 'masterinvestor.co.uk', 'news.alphastreet', 'androidcentral', 'coinspeaker', 'realmoney.thestreet', 'screenrant', 'computerworld.com.br', 'lemondeinformatique.fr', 'digitaltrends', 'siliconrepublic', 'smarteranalyst', 'livemint', 'apnews', 'theverge', '9to5toys', 'datacenterknowledge', 'eveningexpress.co.uk', 'ctvnews.ca', 'abcnews', 'ctpost', 'Business Wire', 'PRNewsWire', 'rte.ie', 'en.trend.az', 'devdiscourse', 'news.crunchbase', 'marketwatch', 'in.reuters', 'uk.reuters', 'uk.mobile.reuters', 'mobile.reuters', 'blogs.intel', 'techtimes', 'elperiodico', 'elcorreo', 'arabnews', 'markets.businessinsider', 'ain.ua', 'extremetech', 'businessinsider.es', 'lemonde.fr', 'newstimes', 'thestar.com.my', 'cincodias.elpais', 'indiatoday.in', 'blocksandfiles', 'markets.co', 'Newsfile Corp', 'Deadline', 'seekingalpha', 'Yahoo', 'theglobeandmail', 'zonebourse', 'boursorama', 'insights.tradestation', 'tradingsat', 'seekingalpha', 'irishtimes', 'Benzinga\\u2003Newsdesk', 'thenextweb', 'cnbc', 'betakit', 'benzinga', 'business.financialpost', 'ots.at', 'globenewswire', 'einpresswire', 'globenewswire', 'businessinsider.com.au', 'lerevenu', 'nanalyze', 'lefigaro.fr', 'nypost', 'footwearnews', 'finanzen.net', 'elpais', 'independent.co.uk', 'bmmagazine.co.uk', 'simplywall.st', 'breitbart', 'ccn', 'crowdfundinsider', 'dailymail.co.uk', 'adweek', 'finovate', 'thesun.co.uk', 'pymnts', 'cnn', 'americanbanker', 'FOOL', 'YAHOO', 'SEEKINGALPHA', 'ZACKS', 'SMARTERANALYST', 'THELINCOLNIANONLINE', 'BARRONS', 'THEFLY', 'TALKMARKETS', 'SUREDIVIDEND', 'INVESTORPLACE', '247WALLST', 'GURUFOCUS', 'Benzinga Newsdesk', 'Benzinga_Newsdesk', 'GEARPATROL', 'POLITICO', 'THENEXTWEB', 'ANALYSTRATINGS', 'Vick Meyer', 'REUTERS', '9TO5TOYS', 'vishwanath@benzinga', 'ANDROIDCENTRAL', 'BENZINGA', 'Zacks', 'INDEPENDENT.CO.UK', 'SIMPLYWALL', 'TECHRADAR', 'ENGADGET', 'THEVERGE', 'http://business.itbusinessnet', 'business.itbusinessnet', 'cryptobriefing', 'uk.investing', 'moneyweb.co.za', 'coingeek', 'digiday', 'zycrypto', 'blockboard.net', 'newsbtc', 'blog.dellemc', 'btcmanager', 'insidebitcoins', 'coindesk', 'cryptoslate', 'blockonomi', 'dailyhodl', 'wealthmanagement', 'livebitcoinnews', 'forexcrunch', 'nulltx', 'news.bitcoin', 'ourbitcoinnews', 'coingape', 'blogs.vmware', 'computerworld.co', 'smartereum', 'thestar', 'themerkle', 'medium', 'cryptopotato', 'channelweb.co.uk', 'sfchronicle', 'thehill', 'cultofmac', '9to5mac', 'washingtonexaminer', 'rustourismnews', 'news.com.au', 'Huffington Post']\n"
     ]
    }
   ],
   "metadata": {}
  },
  {
   "cell_type": "code",
   "execution_count": 24,
   "source": [
    "len(res)"
   ],
   "outputs": [
    {
     "output_type": "execute_result",
     "data": {
      "text/plain": [
       "242"
      ]
     },
     "metadata": {},
     "execution_count": 24
    }
   ],
   "metadata": {}
  },
  {
   "cell_type": "code",
   "execution_count": null,
   "source": [
    "if (t < t-1)"
   ],
   "outputs": [],
   "metadata": {}
  }
 ],
 "metadata": {
  "orig_nbformat": 4,
  "language_info": {
   "name": "python",
   "version": "3.7.6",
   "mimetype": "text/x-python",
   "codemirror_mode": {
    "name": "ipython",
    "version": 3
   },
   "pygments_lexer": "ipython3",
   "nbconvert_exporter": "python",
   "file_extension": ".py"
  },
  "kernelspec": {
   "name": "python3",
   "display_name": "Python 3.7.6 64-bit ('base': conda)"
  },
  "interpreter": {
   "hash": "959929d4ca30443752a13bfc00740ce5fd4576332a930b6fcb55153b0c842cc9"
  }
 },
 "nbformat": 4,
 "nbformat_minor": 2
}