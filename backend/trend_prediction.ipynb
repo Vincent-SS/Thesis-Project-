{
 "cells": [
  {
   "cell_type": "code",
   "execution_count": 3,
   "metadata": {},
   "outputs": [],
   "source": [
    "import pandas as pd\n",
    "import numpy as np\n",
    "import json\n",
    "from nltk.sentiment.vader import SentimentIntensityAnalyzer\n",
    "import datetime\n",
    "from sklearn.model_selection import train_test_split\n",
    "from sklearn.preprocessing import StandardScaler\n",
    "from sklearn.ensemble import RandomForestRegressor\n",
    "from sklearn.metrics import precision_score, recall_score, accuracy_score, mean_squared_error"
   ]
  },
  {
   "cell_type": "markdown",
   "metadata": {},
   "source": [
    "# Convert price to 0/1, 0 represents decrease, 1 represents increase\n",
    "Only need to run once"
   ]
  },
  {
   "cell_type": "code",
   "execution_count": 15,
   "metadata": {},
   "outputs": [],
   "source": [
    "# Add indicator column to each stock price file\n",
    "def add_indicator_column(ticker):\n",
    "  data = pd.read_csv(\"./stock_price/\"+ticker[1:]+\".csv\")\n",
    "  data.loc[0, 'indicator'] = 0\n",
    "  for i in range(1, len(data)):\n",
    "    data.loc[i, 'indicator'] = 0 if data.loc[i-1, 'Close'] >= data.loc[i, 'Close'] else 1\n",
    "  data.to_csv(\"./stock_price/compare_previous_day/\"+ticker[1:]+\".csv\", index=False)"
   ]
  },
  {
   "cell_type": "code",
   "execution_count": 16,
   "metadata": {},
   "outputs": [],
   "source": [
    "ALL_TICKERS = [\"$TSLA\", \"$NVDA\", \"$INTC\", \"$PFE\", \"$SPGI\", \"$LRCX\", \"$TMUS\", \"$ADSK\", \"$VRTX\", \"$TWTR\", \"$EBAY\", \"$CARR\", \"$VRSN\", \"$GRMN\", \"$ANET\", \"$AAL\"]\n",
    "for ticker in ALL_TICKERS:\n",
    "  add_indicator_column(ticker)"
   ]
  },
  {
   "cell_type": "markdown",
   "metadata": {},
   "source": [
    "# Calculate 7-day MA\n",
    "Only need to run once"
   ]
  },
  {
   "cell_type": "code",
   "execution_count": 17,
   "metadata": {},
   "outputs": [],
   "source": [
    "def add_7day_ma(ticker):\n",
    "  data = pd.read_csv(\"./stock_price/compare_previous_day/\"+ticker[1:]+\".csv\")\n",
    "  data.loc[0, '7dayMA'] = data.loc[0, 'Close']\n",
    "  data.loc[1, '7dayMA'] = (data.loc[0, 'Close'] + data.loc[1, 'Close']) / 2\n",
    "  data.loc[2, '7dayMA'] = (data.loc[0, 'Close'] + data.loc[1, 'Close'] + data.loc[2, 'Close']) / 3\n",
    "  data.loc[3, '7dayMA'] = (data.loc[0, 'Close'] + data.loc[1, 'Close'] + data.loc[2, 'Close'] + data.loc[3, 'Close']) / 4\n",
    "  data.loc[4, '7dayMA'] = (data.loc[0, 'Close'] + data.loc[1, 'Close'] + data.loc[2, 'Close'] + data.loc[3, 'Close'] + data.loc[4, 'Close']) / 5\n",
    "  data.loc[5, '7dayMA'] = (data.loc[0, 'Close'] + data.loc[1, 'Close'] + data.loc[2, 'Close'] + data.loc[3, 'Close'] + data.loc[4, 'Close'] + data.loc[5, 'Close']) / 6\n",
    "  for i in range(6, len(data)):\n",
    "    data.loc[i, '7dayMA'] = (data.loc[i-1, '7dayMA'] * 6 + data.loc[i, 'Close']) / 7\n",
    "  data.to_csv(\"./stock_price/with_7day_ma/\"+ticker[1:]+\".csv\", index=False)"
   ]
  },
  {
   "cell_type": "code",
   "execution_count": 18,
   "metadata": {},
   "outputs": [],
   "source": [
    "ALL_TICKERS = [\"$TSLA\", \"$NVDA\", \"$INTC\", \"$PFE\", \"$SPGI\", \"$LRCX\", \"$TMUS\", \"$ADSK\", \"$VRTX\", \"$TWTR\", \"$EBAY\", \"$CARR\", \"$VRSN\", \"$GRMN\", \"$ANET\", \"$AAL\"]\n",
    "for ticker in ALL_TICKERS:\n",
    "  add_7day_ma(ticker)"
   ]
  },
  {
   "cell_type": "markdown",
   "metadata": {},
   "source": [
    "# For Long Period (3 years)"
   ]
  },
  {
   "cell_type": "markdown",
   "metadata": {},
   "source": [
    "# Convert price to 0/1, 0 represents decrease, 1 represents increase\n",
    "Only need to run once"
   ]
  },
  {
   "cell_type": "code",
   "execution_count": 10,
   "metadata": {},
   "outputs": [],
   "source": [
    "# Add indicator column to each stock price file\n",
    "def add_indicator_column_long_period(ticker):\n",
    "  data = pd.read_csv(\"./stock_price/with_7day_ma_and7days_prediction/original/\"+ticker[1:]+\".csv\")\n",
    "  data.loc[0, 'indicator'] = 0\n",
    "  for i in range(1, len(data)):\n",
    "    data.loc[i, 'indicator'] = 0 if data.loc[i-1, 'Close'] >= data.loc[i, 'Close'] else 1\n",
    "  data.to_csv(\"./stock_price/with_7day_ma_and7days_prediction/compare_previous_day/\"+ticker[1:]+\".csv\", index=False)"
   ]
  },
  {
   "cell_type": "code",
   "execution_count": 11,
   "metadata": {},
   "outputs": [
    {
     "name": "stdout",
     "output_type": "stream",
     "text": [
      "$TSLA\n",
      "$INTC\n",
      "$PFE\n",
      "$SPGI\n",
      "$ADSK\n",
      "$VRTX\n",
      "$TWTR\n",
      "$EBAY\n",
      "$GRMN\n",
      "$ANET\n",
      "$AAL\n"
     ]
    }
   ],
   "source": [
    "ALL_TICKERS = [\"$TSLA\", \"$INTC\", \"$PFE\", \"$SPGI\", \"$ADSK\", \"$VRTX\", \"$TWTR\", \"$EBAY\", \"$GRMN\", \"$ANET\", \"$AAL\"]\n",
    "for ticker in ALL_TICKERS:\n",
    "  add_indicator_column_long_period(ticker)"
   ]
  },
  {
   "cell_type": "markdown",
   "metadata": {},
   "source": [
    "# Calculate 7-day MA\n",
    "Only need to run once"
   ]
  },
  {
   "cell_type": "code",
   "execution_count": 12,
   "metadata": {},
   "outputs": [],
   "source": [
    "def add_7day_ma_long_period(ticker):\n",
    "  data = pd.read_csv(\"./stock_price/with_7day_ma_and7days_prediction/compare_previous_day/\"+ticker[1:]+\".csv\")\n",
    "  data.loc[0, '7dayMA'] = data.loc[0, 'Close']\n",
    "  data.loc[1, '7dayMA'] = (data.loc[0, 'Close'] + data.loc[1, 'Close']) / 2\n",
    "  data.loc[2, '7dayMA'] = (data.loc[0, 'Close'] + data.loc[1, 'Close'] + data.loc[2, 'Close']) / 3\n",
    "  data.loc[3, '7dayMA'] = (data.loc[0, 'Close'] + data.loc[1, 'Close'] + data.loc[2, 'Close'] + data.loc[3, 'Close']) / 4\n",
    "  data.loc[4, '7dayMA'] = (data.loc[0, 'Close'] + data.loc[1, 'Close'] + data.loc[2, 'Close'] + data.loc[3, 'Close'] + data.loc[4, 'Close']) / 5\n",
    "  data.loc[5, '7dayMA'] = (data.loc[0, 'Close'] + data.loc[1, 'Close'] + data.loc[2, 'Close'] + data.loc[3, 'Close'] + data.loc[4, 'Close'] + data.loc[5, 'Close']) / 6\n",
    "  for i in range(6, len(data)):\n",
    "    data.loc[i, '7dayMA'] = (data.loc[i-1, '7dayMA'] * 6 + data.loc[i, 'Close']) / 7\n",
    "  data.to_csv(\"./stock_price/with_7day_ma_and7days_prediction/with_7day_ma/\"+ticker[1:]+\".csv\", index=False)"
   ]
  },
  {
   "cell_type": "code",
   "execution_count": 13,
   "metadata": {},
   "outputs": [],
   "source": [
    "ALL_TICKERS = [\"$TSLA\", \"$INTC\", \"$PFE\", \"$SPGI\", \"$ADSK\", \"$VRTX\", \"$TWTR\", \"$EBAY\", \"$GRMN\", \"$ANET\", \"$AAL\"]\n",
    "for ticker in ALL_TICKERS:\n",
    "  add_7day_ma_long_period(ticker)"
   ]
  },
  {
   "cell_type": "markdown",
   "metadata": {},
   "source": [
    "# 2DayAfter"
   ]
  },
  {
   "cell_type": "code",
   "execution_count": 8,
   "metadata": {},
   "outputs": [],
   "source": [
    "# Add indicator column to each stock price file\n",
    "def add_indicator2day_column_long_period(ticker):\n",
    "  data = pd.read_csv(\"./stock_price/with_7day_ma_and7days_prediction/original/\"+ticker[1:]+\".csv\")\n",
    "  data.loc[0, 'indicator'] = 0\n",
    "  data.loc[1, 'indicator'] = 0\n",
    "  for i in range(2, len(data)):\n",
    "    data.loc[i, 'indicator'] = 0 if data.loc[i-2, 'Close'] >= data.loc[i, 'Close'] else 1\n",
    "  data.to_csv(\"./stock_price/with_7day_ma_and7days_prediction/compare_previous_day_2/\"+ticker[1:]+\".csv\", index=False)"
   ]
  },
  {
   "cell_type": "code",
   "execution_count": 9,
   "metadata": {},
   "outputs": [],
   "source": [
    "ALL_TICKERS = [\"$TSLA\", \"$INTC\", \"$PFE\", \"$SPGI\", \"$ADSK\", \"$VRTX\", \"$TWTR\", \"$EBAY\", \"$GRMN\", \"$ANET\", \"$AAL\"]\n",
    "for ticker in ALL_TICKERS:\n",
    "  add_indicator2day_column_long_period(ticker)"
   ]
  },
  {
   "cell_type": "markdown",
   "metadata": {},
   "source": [
    "# 3DayAfter"
   ]
  },
  {
   "cell_type": "code",
   "execution_count": 10,
   "metadata": {},
   "outputs": [],
   "source": [
    "# Add indicator column to each stock price file\n",
    "def add_indicator3day_column_long_period(ticker):\n",
    "  data = pd.read_csv(\"./stock_price/with_7day_ma_and7days_prediction/original/\"+ticker[1:]+\".csv\")\n",
    "  data.loc[0, 'indicator'] = 0\n",
    "  data.loc[1, 'indicator'] = 0\n",
    "  data.loc[2, 'indicator'] = 0\n",
    "  for i in range(3, len(data)):\n",
    "    data.loc[i, 'indicator'] = 0 if data.loc[i-3, 'Close'] >= data.loc[i, 'Close'] else 1\n",
    "  data.to_csv(\"./stock_price/with_7day_ma_and7days_prediction/compare_previous_day_3/\"+ticker[1:]+\".csv\", index=False)"
   ]
  },
  {
   "cell_type": "code",
   "execution_count": 11,
   "metadata": {},
   "outputs": [],
   "source": [
    "ALL_TICKERS = [\"$TSLA\", \"$INTC\", \"$PFE\", \"$SPGI\", \"$ADSK\", \"$VRTX\", \"$TWTR\", \"$EBAY\", \"$GRMN\", \"$ANET\", \"$AAL\"]\n",
    "for ticker in ALL_TICKERS:\n",
    "  add_indicator3day_column_long_period(ticker)"
   ]
  },
  {
   "cell_type": "markdown",
   "metadata": {},
   "source": [
    "# 4DayAfter"
   ]
  },
  {
   "cell_type": "code",
   "execution_count": 12,
   "metadata": {},
   "outputs": [],
   "source": [
    "# Add indicator column to each stock price file\n",
    "def add_indicator4day_column_long_period(ticker):\n",
    "  data = pd.read_csv(\"./stock_price/with_7day_ma_and7days_prediction/original/\"+ticker[1:]+\".csv\")\n",
    "  data.loc[0, 'indicator'] = 0\n",
    "  data.loc[1, 'indicator'] = 0\n",
    "  data.loc[2, 'indicator'] = 0\n",
    "  data.loc[3, 'indicator'] = 0\n",
    "  for i in range(4, len(data)):\n",
    "    data.loc[i, 'indicator'] = 0 if data.loc[i-4, 'Close'] >= data.loc[i, 'Close'] else 1\n",
    "  data.to_csv(\"./stock_price/with_7day_ma_and7days_prediction/compare_previous_day_4/\"+ticker[1:]+\".csv\", index=False)"
   ]
  },
  {
   "cell_type": "code",
   "execution_count": 13,
   "metadata": {},
   "outputs": [],
   "source": [
    "ALL_TICKERS = [\"$TSLA\", \"$INTC\", \"$PFE\", \"$SPGI\", \"$ADSK\", \"$VRTX\", \"$TWTR\", \"$EBAY\", \"$GRMN\", \"$ANET\", \"$AAL\"]\n",
    "for ticker in ALL_TICKERS:\n",
    "  add_indicator4day_column_long_period(ticker)"
   ]
  },
  {
   "cell_type": "markdown",
   "metadata": {},
   "source": [
    "# 5DayAfter"
   ]
  },
  {
   "cell_type": "code",
   "execution_count": 14,
   "metadata": {},
   "outputs": [],
   "source": [
    "# Add indicator column to each stock price file\n",
    "def add_indicator5day_column_long_period(ticker):\n",
    "  data = pd.read_csv(\"./stock_price/with_7day_ma_and7days_prediction/original/\"+ticker[1:]+\".csv\")\n",
    "  data.loc[0, 'indicator'] = 0\n",
    "  data.loc[1, 'indicator'] = 0\n",
    "  data.loc[2, 'indicator'] = 0\n",
    "  data.loc[3, 'indicator'] = 0\n",
    "  data.loc[4, 'indicator'] = 0\n",
    "  for i in range(5, len(data)):\n",
    "    data.loc[i, 'indicator'] = 0 if data.loc[i-5, 'Close'] >= data.loc[i, 'Close'] else 1\n",
    "  data.to_csv(\"./stock_price/with_7day_ma_and7days_prediction/compare_previous_day_5/\"+ticker[1:]+\".csv\", index=False)"
   ]
  },
  {
   "cell_type": "code",
   "execution_count": 15,
   "metadata": {},
   "outputs": [],
   "source": [
    "ALL_TICKERS = [\"$TSLA\", \"$INTC\", \"$PFE\", \"$SPGI\", \"$ADSK\", \"$VRTX\", \"$TWTR\", \"$EBAY\", \"$GRMN\", \"$ANET\", \"$AAL\"]\n",
    "for ticker in ALL_TICKERS:\n",
    "  add_indicator5day_column_long_period(ticker)"
   ]
  },
  {
   "cell_type": "markdown",
   "metadata": {},
   "source": [
    "# 6DayAfter"
   ]
  },
  {
   "cell_type": "code",
   "execution_count": 16,
   "metadata": {},
   "outputs": [],
   "source": [
    "# Add indicator column to each stock price file\n",
    "def add_indicator6day_column_long_period(ticker):\n",
    "  data = pd.read_csv(\"./stock_price/with_7day_ma_and7days_prediction/original/\"+ticker[1:]+\".csv\")\n",
    "  data.loc[0, 'indicator'] = 0\n",
    "  data.loc[1, 'indicator'] = 0\n",
    "  data.loc[2, 'indicator'] = 0\n",
    "  data.loc[3, 'indicator'] = 0\n",
    "  data.loc[4, 'indicator'] = 0\n",
    "  data.loc[5, 'indicator'] = 0\n",
    "  for i in range(6, len(data)):\n",
    "    data.loc[i, 'indicator'] = 0 if data.loc[i-6, 'Close'] >= data.loc[i, 'Close'] else 1\n",
    "  data.to_csv(\"./stock_price/with_7day_ma_and7days_prediction/compare_previous_day_6/\"+ticker[1:]+\".csv\", index=False)"
   ]
  },
  {
   "cell_type": "code",
   "execution_count": 17,
   "metadata": {},
   "outputs": [],
   "source": [
    "ALL_TICKERS = [\"$TSLA\", \"$INTC\", \"$PFE\", \"$SPGI\", \"$ADSK\", \"$VRTX\", \"$TWTR\", \"$EBAY\", \"$GRMN\", \"$ANET\", \"$AAL\"]\n",
    "for ticker in ALL_TICKERS:\n",
    "  add_indicator6day_column_long_period(ticker)"
   ]
  },
  {
   "cell_type": "markdown",
   "metadata": {},
   "source": [
    "# 7DayAfter"
   ]
  },
  {
   "cell_type": "code",
   "execution_count": 18,
   "metadata": {},
   "outputs": [],
   "source": [
    "# Add indicator column to each stock price file\n",
    "def add_indicator7day_column_long_period(ticker):\n",
    "  data = pd.read_csv(\"./stock_price/with_7day_ma_and7days_prediction/original/\"+ticker[1:]+\".csv\")\n",
    "  data.loc[0, 'indicator'] = 0\n",
    "  data.loc[1, 'indicator'] = 0\n",
    "  data.loc[2, 'indicator'] = 0\n",
    "  data.loc[3, 'indicator'] = 0\n",
    "  data.loc[4, 'indicator'] = 0\n",
    "  data.loc[5, 'indicator'] = 0\n",
    "  data.loc[6, 'indicator'] = 0\n",
    "  for i in range(7, len(data)):\n",
    "    data.loc[i, 'indicator'] = 0 if data.loc[i-7, 'Close'] >= data.loc[i, 'Close'] else 1\n",
    "  data.to_csv(\"./stock_price/with_7day_ma_and7days_prediction/compare_previous_day_7/\"+ticker[1:]+\".csv\", index=False)"
   ]
  },
  {
   "cell_type": "code",
   "execution_count": 19,
   "metadata": {},
   "outputs": [],
   "source": [
    "ALL_TICKERS = [\"$TSLA\", \"$INTC\", \"$PFE\", \"$SPGI\", \"$ADSK\", \"$VRTX\", \"$TWTR\", \"$EBAY\", \"$GRMN\", \"$ANET\", \"$AAL\"]\n",
    "for ticker in ALL_TICKERS:\n",
    "  add_indicator7day_column_long_period(ticker)"
   ]
  }
 ],
 "metadata": {
  "interpreter": {
   "hash": "4ac9036ed182ece6ef2726ddbdca12ece5ff93f7a9364fdc80b0ed046e896158"
  },
  "kernelspec": {
   "display_name": "Python 3.7.6 64-bit ('base': conda)",
   "name": "python3"
  },
  "language_info": {
   "codemirror_mode": {
    "name": "ipython",
    "version": 3
   },
   "file_extension": ".py",
   "mimetype": "text/x-python",
   "name": "python",
   "nbconvert_exporter": "python",
   "pygments_lexer": "ipython3",
   "version": "3.7.6"
  },
  "orig_nbformat": 4
 },
 "nbformat": 4,
 "nbformat_minor": 2
}
