{
 "cells": [
  {
   "cell_type": "code",
   "execution_count": 1,
   "metadata": {},
   "outputs": [],
   "source": [
    "import pandas as pd\n",
    "import numpy as np\n",
    "import json\n",
    "from nltk.sentiment.vader import SentimentIntensityAnalyzer\n",
    "import datetime\n",
    "from sklearn.model_selection import train_test_split\n",
    "from sklearn.preprocessing import StandardScaler\n",
    "from sklearn.ensemble import RandomForestRegressor\n",
    "from sklearn.metrics import precision_score, recall_score, accuracy_score, mean_squared_error"
   ]
  },
  {
   "cell_type": "code",
   "execution_count": 2,
   "metadata": {},
   "outputs": [],
   "source": [
    "# Return one season's financial news dataframe\n",
    "def season_dataframe(ticker, season):\n",
    "    with open('./financial_news/'+ticker+str(season), 'r') as ticker_news:\n",
    "        content  = ticker_news.read()\n",
    "    records = json.loads(content)\n",
    "    df = pd.DataFrame(records)\n",
    "    return df"
   ]
  },
  {
   "cell_type": "code",
   "execution_count": null,
   "metadata": {},
   "outputs": [],
   "source": [
    "# Testing CARR\n",
    "# Concatenate 8 seasons into one dataframe\n",
    "df_carr = pd.DataFrame()\n",
    "for i in range(1, 9):\n",
    "    new_df = season_dataframe(\"$CARR\", i)\n",
    "    df_carr = pd.concat([df_carr, new_df], ignore_index=True)\n",
    "df_carr"
   ]
  },
  {
   "cell_type": "code",
   "execution_count": 9,
   "metadata": {},
   "outputs": [],
   "source": [
    "# Predict ALL\n",
    "ALL_TICKERS = [\"$TSLA\", \"$NVDA\", \"$INTC\", \"$PFE\", \"$SPGI\", \"$LRCX\", \"$TMUS\", \"$ADSK\", \"$VRTX\", \"$TWTR\", \"$EBAY\", \"$CARR\", \"$VRSN\", \"$GRMN\", \"$ANET\", \"$AAL\"]\n",
    "df = []\n",
    "for ticker in ALL_TICKERS:\n",
    "  # Concatenate 8 seasons into one dataframe\n",
    "  df_temp = pd.DataFrame()\n",
    "  for i in range(1, 9):\n",
    "      new_df = season_dataframe(ticker, i)\n",
    "      df_temp = pd.concat([df_temp, new_df], ignore_index=True)\n",
    "  df.append(df_temp)"
   ]
  },
  {
   "cell_type": "code",
   "execution_count": 27,
   "metadata": {},
   "outputs": [
    {
     "data": {
      "text/html": [
       "<div>\n",
       "<style scoped>\n",
       "    .dataframe tbody tr th:only-of-type {\n",
       "        vertical-align: middle;\n",
       "    }\n",
       "\n",
       "    .dataframe tbody tr th {\n",
       "        vertical-align: top;\n",
       "    }\n",
       "\n",
       "    .dataframe thead th {\n",
       "        text-align: right;\n",
       "    }\n",
       "</style>\n",
       "<table border=\"1\" class=\"dataframe\">\n",
       "  <thead>\n",
       "    <tr style=\"text-align: right;\">\n",
       "      <th></th>\n",
       "      <th>symbol</th>\n",
       "      <th>publishedDate</th>\n",
       "      <th>title</th>\n",
       "      <th>image</th>\n",
       "      <th>site</th>\n",
       "      <th>text</th>\n",
       "      <th>url</th>\n",
       "    </tr>\n",
       "  </thead>\n",
       "  <tbody>\n",
       "    <tr>\n",
       "      <th>0</th>\n",
       "      <td>TSLA</td>\n",
       "      <td>2020-12-31 23:04:00</td>\n",
       "      <td>Tesla to deliver China-made Model Y SUVs this ...</td>\n",
       "      <td>https://cdn.snapi.dev/images/v1/5/m/m02d202101...</td>\n",
       "      <td>Reuters</td>\n",
       "      <td>Tesla Inc said on Friday it has started sellin...</td>\n",
       "      <td>https://www.reuters.com/article/us-tesla-china...</td>\n",
       "    </tr>\n",
       "    <tr>\n",
       "      <th>1</th>\n",
       "      <td>TSLA</td>\n",
       "      <td>2020-12-31 21:44:01</td>\n",
       "      <td>2020: Several Chinese Stocks Outperformed Thei...</td>\n",
       "      <td>https://cdn.snapi.dev/images/v1/f/j/catalog-ma...</td>\n",
       "      <td>Seeking Alpha</td>\n",
       "      <td>2020: Several Chinese Stocks Outperformed Thei...</td>\n",
       "      <td>https://seekingalpha.com/article/4396892-2020-...</td>\n",
       "    </tr>\n",
       "    <tr>\n",
       "      <th>2</th>\n",
       "      <td>TSLA</td>\n",
       "      <td>2020-12-31 16:39:55</td>\n",
       "      <td>EV Company News For The Month Of December 2020</td>\n",
       "      <td>https://cdn.snapi.dev/images/v1/l/r/sssik22-c5...</td>\n",
       "      <td>Seeking Alpha</td>\n",
       "      <td>Global electric car sales records for November...</td>\n",
       "      <td>https://seekingalpha.com/article/4396884-ev-co...</td>\n",
       "    </tr>\n",
       "    <tr>\n",
       "      <th>3</th>\n",
       "      <td>TSLA</td>\n",
       "      <td>2020-12-31 16:34:55</td>\n",
       "      <td>Tesla, Volkswagen, Renault See Strong Share In...</td>\n",
       "      <td>https://cdn.snapi.dev/images/v1/v/x/s3xy-14.jpg</td>\n",
       "      <td>Benzinga</td>\n",
       "      <td>The European market continues to see strong ad...</td>\n",
       "      <td>https://www.benzinga.com/news/20/12/18973120/t...</td>\n",
       "    </tr>\n",
       "    <tr>\n",
       "      <th>4</th>\n",
       "      <td>TSLA</td>\n",
       "      <td>2020-12-31 16:29:13</td>\n",
       "      <td>Tech's top seven companies added $3.4 trillion...</td>\n",
       "      <td>https://cdn.snapi.dev/images/v1/s/t/stocks23-1...</td>\n",
       "      <td>CNBC</td>\n",
       "      <td>Big Tech got much bigger in 2020, and Tesla jo...</td>\n",
       "      <td>https://www.cnbc.com/2020/12/31/techs-top-seve...</td>\n",
       "    </tr>\n",
       "    <tr>\n",
       "      <th>...</th>\n",
       "      <td>...</td>\n",
       "      <td>...</td>\n",
       "      <td>...</td>\n",
       "      <td>...</td>\n",
       "      <td>...</td>\n",
       "      <td>...</td>\n",
       "      <td>...</td>\n",
       "    </tr>\n",
       "    <tr>\n",
       "      <th>5817</th>\n",
       "      <td>TSLA</td>\n",
       "      <td>2019-01-18 19:00:00</td>\n",
       "      <td>Behind Elon Musk's Hiring and Firing Spree</td>\n",
       "      <td>https://cdn.snapi.dev/images/v1/v/i/viwtqd6wkp...</td>\n",
       "      <td>Bloomberg Technology</td>\n",
       "      <td>Elon Musk is cutting Tesla Inc.'s workforce by...</td>\n",
       "      <td>https://www.youtube.com/watch?v=ViwTqD6WKpA</td>\n",
       "    </tr>\n",
       "    <tr>\n",
       "      <th>5818</th>\n",
       "      <td>TSLA</td>\n",
       "      <td>2019-01-17 19:00:00</td>\n",
       "      <td>Tesla to cut full time workforce by roughly 7%...</td>\n",
       "      <td>https://cdn.snapi.dev/images/v1/t/8/t8cnbozbfx...</td>\n",
       "      <td>CNBC Television</td>\n",
       "      <td>The Wall Street Journal is reporting that Tesl...</td>\n",
       "      <td>https://www.youtube.com/watch?v=t8CNBOZBFXc</td>\n",
       "    </tr>\n",
       "    <tr>\n",
       "      <th>5819</th>\n",
       "      <td>TSLA</td>\n",
       "      <td>2019-01-06 19:00:00</td>\n",
       "      <td>Cramer: New Tesla factory in Shanghai will wor...</td>\n",
       "      <td>https://cdn.snapi.dev/images/v1/w/g/wgegqwogy8...</td>\n",
       "      <td>CNBC Television</td>\n",
       "      <td>CNBC's Jim Cramer discusses his take on the la...</td>\n",
       "      <td>https://www.youtube.com/watch?v=WGEgQWogY8E</td>\n",
       "    </tr>\n",
       "    <tr>\n",
       "      <th>5820</th>\n",
       "      <td>TSLA</td>\n",
       "      <td>2019-01-03 19:00:00</td>\n",
       "      <td>Tesla stock drops over missed delivery estimat...</td>\n",
       "      <td>https://cdn.snapi.dev/images/v1/b/e/bebskx74-2...</td>\n",
       "      <td>Fox Business</td>\n",
       "      <td>“Bulls &amp; Bears” panel discusses how Tesla shar...</td>\n",
       "      <td>https://www.youtube.com/watch?v=Bebskx74-2Y</td>\n",
       "    </tr>\n",
       "    <tr>\n",
       "      <th>5821</th>\n",
       "      <td>TSLA</td>\n",
       "      <td>2019-01-01 19:00:00</td>\n",
       "      <td>Tesla misses Wall Street estimates with 90,700...</td>\n",
       "      <td>https://cdn.snapi.dev/images/v1/p/l/plxkuv4cmd...</td>\n",
       "      <td>CNBC Television</td>\n",
       "      <td>CNBC's Phil LeBeau reports on Tesla's deliveri...</td>\n",
       "      <td>https://www.youtube.com/watch?v=pLxkuV4cmdI</td>\n",
       "    </tr>\n",
       "  </tbody>\n",
       "</table>\n",
       "<p>5822 rows × 7 columns</p>\n",
       "</div>"
      ],
      "text/plain": [
       "     symbol        publishedDate  \\\n",
       "0      TSLA  2020-12-31 23:04:00   \n",
       "1      TSLA  2020-12-31 21:44:01   \n",
       "2      TSLA  2020-12-31 16:39:55   \n",
       "3      TSLA  2020-12-31 16:34:55   \n",
       "4      TSLA  2020-12-31 16:29:13   \n",
       "...     ...                  ...   \n",
       "5817   TSLA  2019-01-18 19:00:00   \n",
       "5818   TSLA  2019-01-17 19:00:00   \n",
       "5819   TSLA  2019-01-06 19:00:00   \n",
       "5820   TSLA  2019-01-03 19:00:00   \n",
       "5821   TSLA  2019-01-01 19:00:00   \n",
       "\n",
       "                                                  title  \\\n",
       "0     Tesla to deliver China-made Model Y SUVs this ...   \n",
       "1     2020: Several Chinese Stocks Outperformed Thei...   \n",
       "2        EV Company News For The Month Of December 2020   \n",
       "3     Tesla, Volkswagen, Renault See Strong Share In...   \n",
       "4     Tech's top seven companies added $3.4 trillion...   \n",
       "...                                                 ...   \n",
       "5817         Behind Elon Musk's Hiring and Firing Spree   \n",
       "5818  Tesla to cut full time workforce by roughly 7%...   \n",
       "5819  Cramer: New Tesla factory in Shanghai will wor...   \n",
       "5820  Tesla stock drops over missed delivery estimat...   \n",
       "5821  Tesla misses Wall Street estimates with 90,700...   \n",
       "\n",
       "                                                  image                  site  \\\n",
       "0     https://cdn.snapi.dev/images/v1/5/m/m02d202101...               Reuters   \n",
       "1     https://cdn.snapi.dev/images/v1/f/j/catalog-ma...         Seeking Alpha   \n",
       "2     https://cdn.snapi.dev/images/v1/l/r/sssik22-c5...         Seeking Alpha   \n",
       "3       https://cdn.snapi.dev/images/v1/v/x/s3xy-14.jpg              Benzinga   \n",
       "4     https://cdn.snapi.dev/images/v1/s/t/stocks23-1...                  CNBC   \n",
       "...                                                 ...                   ...   \n",
       "5817  https://cdn.snapi.dev/images/v1/v/i/viwtqd6wkp...  Bloomberg Technology   \n",
       "5818  https://cdn.snapi.dev/images/v1/t/8/t8cnbozbfx...       CNBC Television   \n",
       "5819  https://cdn.snapi.dev/images/v1/w/g/wgegqwogy8...       CNBC Television   \n",
       "5820  https://cdn.snapi.dev/images/v1/b/e/bebskx74-2...          Fox Business   \n",
       "5821  https://cdn.snapi.dev/images/v1/p/l/plxkuv4cmd...       CNBC Television   \n",
       "\n",
       "                                                   text  \\\n",
       "0     Tesla Inc said on Friday it has started sellin...   \n",
       "1     2020: Several Chinese Stocks Outperformed Thei...   \n",
       "2     Global electric car sales records for November...   \n",
       "3     The European market continues to see strong ad...   \n",
       "4     Big Tech got much bigger in 2020, and Tesla jo...   \n",
       "...                                                 ...   \n",
       "5817  Elon Musk is cutting Tesla Inc.'s workforce by...   \n",
       "5818  The Wall Street Journal is reporting that Tesl...   \n",
       "5819  CNBC's Jim Cramer discusses his take on the la...   \n",
       "5820  “Bulls & Bears” panel discusses how Tesla shar...   \n",
       "5821  CNBC's Phil LeBeau reports on Tesla's deliveri...   \n",
       "\n",
       "                                                    url  \n",
       "0     https://www.reuters.com/article/us-tesla-china...  \n",
       "1     https://seekingalpha.com/article/4396892-2020-...  \n",
       "2     https://seekingalpha.com/article/4396884-ev-co...  \n",
       "3     https://www.benzinga.com/news/20/12/18973120/t...  \n",
       "4     https://www.cnbc.com/2020/12/31/techs-top-seve...  \n",
       "...                                                 ...  \n",
       "5817        https://www.youtube.com/watch?v=ViwTqD6WKpA  \n",
       "5818        https://www.youtube.com/watch?v=t8CNBOZBFXc  \n",
       "5819        https://www.youtube.com/watch?v=WGEgQWogY8E  \n",
       "5820        https://www.youtube.com/watch?v=Bebskx74-2Y  \n",
       "5821        https://www.youtube.com/watch?v=pLxkuV4cmdI  \n",
       "\n",
       "[5822 rows x 7 columns]"
      ]
     },
     "execution_count": 27,
     "metadata": {},
     "output_type": "execute_result"
    }
   ],
   "source": [
    "df[0]"
   ]
  },
  {
   "cell_type": "code",
   "execution_count": null,
   "metadata": {},
   "outputs": [],
   "source": [
    "# Polarity\n",
    "\n",
    "vader = SentimentIntensityAnalyzer()"
   ]
  },
  {
   "cell_type": "code",
   "execution_count": null,
   "metadata": {},
   "outputs": [],
   "source": [
    "# Helper function, which calculates the sentiment and returns compund score\n",
    "def cal_compound(t):\n",
    "    return vader.polarity_scores(t)[\"compound\"]"
   ]
  },
  {
   "cell_type": "code",
   "execution_count": null,
   "metadata": {},
   "outputs": [],
   "source": [
    "# Calculate polarity\n",
    "df_carr['title_compound'] = df_carr['title'].apply(cal_compound)\n",
    "df_carr['text_compound'] = df_carr['text'].apply(cal_compound)"
   ]
  },
  {
   "cell_type": "code",
   "execution_count": null,
   "metadata": {},
   "outputs": [],
   "source": [
    "df_carr"
   ]
  },
  {
   "cell_type": "code",
   "execution_count": null,
   "metadata": {},
   "outputs": [],
   "source": [
    "# Group date"
   ]
  },
  {
   "cell_type": "code",
   "execution_count": null,
   "metadata": {},
   "outputs": [],
   "source": [
    "def remove_time(publish_date):\n",
    "    return publish_date[0:10]"
   ]
  },
  {
   "cell_type": "code",
   "execution_count": null,
   "metadata": {},
   "outputs": [],
   "source": [
    "# Remove specific time of publishedDate column\n",
    "df_carr['publishedDate'] = df_carr['publishedDate'].apply(remove_time)"
   ]
  },
  {
   "cell_type": "code",
   "execution_count": null,
   "metadata": {},
   "outputs": [],
   "source": [
    "df_carr"
   ]
  },
  {
   "cell_type": "code",
   "execution_count": null,
   "metadata": {},
   "outputs": [],
   "source": [
    "df_carr.head(20)"
   ]
  },
  {
   "cell_type": "code",
   "execution_count": null,
   "metadata": {},
   "outputs": [],
   "source": [
    "# Convert weekend to next Monday\n",
    "def moveWeekend(publish_date):\n",
    "  d = datetime.datetime(int(publish_date[0:4]), int(publish_date[5:7]), int(publish_date[8:10]))\n",
    "  if (d.weekday() == 5):\n",
    "    return str(d+datetime.timedelta(days=2))[0:10]\n",
    "  elif (d.weekday() == 6):\n",
    "    return str(d+datetime.timedelta(days=1))[0:10]\n",
    "  else:\n",
    "    return publish_date\n",
    "  "
   ]
  },
  {
   "cell_type": "code",
   "execution_count": null,
   "metadata": {},
   "outputs": [],
   "source": [
    "# Check if date is weekend, if on weekend, then convert the publishedDate to next Monday\n",
    "df_carr['publishedDate'] = df_carr['publishedDate'].apply(moveWeekend)\n",
    "#df_carr['publishedDate'].apply(moveWeekend)"
   ]
  },
  {
   "cell_type": "code",
   "execution_count": null,
   "metadata": {},
   "outputs": [],
   "source": [
    "df_carr.head(20)"
   ]
  },
  {
   "cell_type": "code",
   "execution_count": null,
   "metadata": {},
   "outputs": [],
   "source": [
    "title_mean = df_carr.groupby('publishedDate', as_index=False)['title_compound'].mean()\n",
    "text_mean = df_carr.groupby('publishedDate', as_index=False)['text_compound'].mean()"
   ]
  },
  {
   "cell_type": "code",
   "execution_count": null,
   "metadata": {},
   "outputs": [],
   "source": []
  },
  {
   "cell_type": "code",
   "execution_count": null,
   "metadata": {},
   "outputs": [],
   "source": [
    "polarity = pd.merge(title_mean, text_mean, on='publishedDate')"
   ]
  },
  {
   "cell_type": "code",
   "execution_count": null,
   "metadata": {},
   "outputs": [],
   "source": [
    "polarity"
   ]
  },
  {
   "cell_type": "code",
   "execution_count": null,
   "metadata": {},
   "outputs": [],
   "source": [
    "polarity['symbol'] = df_carr['symbol']\n",
    "polarity"
   ]
  },
  {
   "cell_type": "markdown",
   "metadata": {},
   "source": [
    "# Merge everyday's closing price with polarity dataframe"
   ]
  },
  {
   "cell_type": "code",
   "execution_count": null,
   "metadata": {},
   "outputs": [],
   "source": [
    "# Fetch closing price by a specific date and ticker name\n",
    "def fetchClosingPrice(time, ticker):\n",
    "  data = pd.read_csv(\"./stock_price/\"+ticker+\".csv\")\n",
    "  data = data[data.Date.isin([time])]\n",
    "  data = data['Close']\n",
    "  #return data.iloc[0].item()\n",
    "  return 0 if len(data.index) == 0 else data.iloc[0].item()"
   ]
  },
  {
   "cell_type": "code",
   "execution_count": null,
   "metadata": {},
   "outputs": [],
   "source": [
    "publishedDate = polarity['publishedDate']\n",
    "publishedDate"
   ]
  },
  {
   "cell_type": "code",
   "execution_count": null,
   "metadata": {},
   "outputs": [],
   "source": [
    "polarity['close_price'] = polarity['publishedDate'].apply(fetchClosingPrice, args=(ticker,))\n",
    "polarity"
   ]
  },
  {
   "cell_type": "markdown",
   "metadata": {},
   "source": [
    "Split the data (i.e. polarity) into training and testing sets"
   ]
  },
  {
   "cell_type": "code",
   "execution_count": null,
   "metadata": {},
   "outputs": [],
   "source": [
    "y = polarity['close_price']"
   ]
  },
  {
   "cell_type": "code",
   "execution_count": null,
   "metadata": {},
   "outputs": [],
   "source": [
    "X = polarity.drop(columns=['close_price','publishedDate','symbol'])\n",
    "X"
   ]
  },
  {
   "cell_type": "code",
   "execution_count": null,
   "metadata": {},
   "outputs": [],
   "source": [
    "X_train, X_test, y_train, y_test = train_test_split(\n",
    "  X,\n",
    "  y,\n",
    "  test_size=0.33,\n",
    "  random_state=0\n",
    ")\n",
    "print('X_train', X_train.shape)\n",
    "print('X_test', X_test.shape)\n",
    "print('y_train', y_train.shape)\n",
    "print('y_test', y_test.shape)"
   ]
  },
  {
   "cell_type": "code",
   "execution_count": null,
   "metadata": {},
   "outputs": [],
   "source": [
    "scaler = StandardScaler()\n",
    "scaler.fit(X_train)\n",
    "X_train = scaler.transform(X_train)\n",
    "X_test = scaler.transform(X_test)"
   ]
  },
  {
   "cell_type": "code",
   "execution_count": null,
   "metadata": {},
   "outputs": [],
   "source": [
    "out_date = polarity.publishedDate.values\n",
    "rf = RandomForestRegressor(n_estimators=150)\n",
    "rf.fit(X_train, y_train)\n",
    "y_pred = rf.predict(X_test)\n",
    "mse = mean_squared_error(y_test, y_pred)\n",
    "corr = np.corrcoef(X_train, y_train, rowvar=False)[-1, :-1]\n",
    "corr = corr.max()\n",
    "f = open(\"carr.summary.csv\", \"w\")\n",
    "f.write(\"MSE,correlation\\n\")\n",
    "f.write(\"{},{:.2f}\\n\".format(mse, corr))\n",
    "f.close()\n",
    "\n",
    "f = open(\"carr.output.csv\", \"w\")\n",
    "f.write(\"movie_id,predicted_closing_price\\n\")\n",
    "for i in range(y_pred.shape[0]):\n",
    "    f.write(\"{},{}\\n\".format(out_date[i], y_pred[i]))\n",
    "f.close()"
   ]
  }
 ],
 "metadata": {
  "interpreter": {
   "hash": "959929d4ca30443752a13bfc00740ce5fd4576332a930b6fcb55153b0c842cc9"
  },
  "kernelspec": {
   "display_name": "Python 3.7.6 64-bit ('base': conda)",
   "name": "python3"
  },
  "language_info": {
   "codemirror_mode": {
    "name": "ipython",
    "version": 3
   },
   "file_extension": ".py",
   "mimetype": "text/x-python",
   "name": "python",
   "nbconvert_exporter": "python",
   "pygments_lexer": "ipython3",
   "version": "3.7.6"
  },
  "orig_nbformat": 4
 },
 "nbformat": 4,
 "nbformat_minor": 2
}